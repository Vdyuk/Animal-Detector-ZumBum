{
 "cells": [
  {
   "cell_type": "code",
   "execution_count": 26,
   "id": "ccfd34a7-7244-461c-a954-74d2e80096c6",
   "metadata": {},
   "outputs": [],
   "source": [
    "import numpy as np\n",
    "import cv2 \n",
    "import matplotlib.pyplot as plt"
   ]
  },
  {
   "cell_type": "code",
   "execution_count": 28,
   "id": "72264322-1980-4445-8f62-6aa3c0bc77f3",
   "metadata": {},
   "outputs": [],
   "source": [
    "im = cv2.imread(\"D:\\\\hacks\\\\train_data_minprirodi\\\\images\\\\1001958.jpg\")"
   ]
  },
  {
   "cell_type": "code",
   "execution_count": 30,
   "id": "b84a46a2-0b4e-48f4-91bb-97c5ddfe1e54",
   "metadata": {},
   "outputs": [],
   "source": [
    "h_im, w_im, _ = im.shape"
   ]
  },
  {
   "cell_type": "markdown",
   "id": "05e88f69-f31b-4255-a676-494bd25deb04",
   "metadata": {},
   "source": []
  },
  {
   "cell_type": "code",
   "execution_count": 33,
   "id": "d82300db-d3af-413f-b01d-37fd926153f5",
   "metadata": {
    "collapsed": true,
    "jupyter": {
     "outputs_hidden": true
    }
   },
   "outputs": [
    {
     "name": "stdout",
     "output_type": "stream",
     "text": [
      "1358 766 543 458\n"
     ]
    },
    {
     "data": {
      "text/plain": [
       "array([[[251, 247, 228],\n",
       "        [251, 247, 228],\n",
       "        [251, 247, 228],\n",
       "        ...,\n",
       "        [237, 216, 178],\n",
       "        [237, 216, 178],\n",
       "        [237, 216, 178]],\n",
       "\n",
       "       [[251, 247, 228],\n",
       "        [251, 247, 228],\n",
       "        [251, 247, 228],\n",
       "        ...,\n",
       "        [237, 216, 178],\n",
       "        [237, 216, 178],\n",
       "        [237, 216, 178]],\n",
       "\n",
       "       [[251, 247, 228],\n",
       "        [251, 247, 228],\n",
       "        [251, 247, 228],\n",
       "        ...,\n",
       "        [237, 216, 178],\n",
       "        [237, 216, 178],\n",
       "        [237, 216, 178]],\n",
       "\n",
       "       ...,\n",
       "\n",
       "       [[ 57, 107, 189],\n",
       "        [ 58, 102, 163],\n",
       "        [195, 221, 238],\n",
       "        ...,\n",
       "        [255, 255, 255],\n",
       "        [255, 255, 255],\n",
       "        [255, 255, 255]],\n",
       "\n",
       "       [[ 57, 107, 189],\n",
       "        [ 58, 102, 163],\n",
       "        [195, 221, 238],\n",
       "        ...,\n",
       "        [255, 255, 255],\n",
       "        [255, 255, 255],\n",
       "        [255, 255, 255]],\n",
       "\n",
       "       [[ 57, 107, 189],\n",
       "        [ 58, 102, 163],\n",
       "        [195, 221, 238],\n",
       "        ...,\n",
       "        [255, 255, 255],\n",
       "        [255, 255, 255],\n",
       "        [255, 255, 255]]], dtype=uint8)"
      ]
     },
     "execution_count": 33,
     "metadata": {},
     "output_type": "execute_result"
    }
   ],
   "source": [
    "x,y,w,h = int(w_im * 0.7075520833333333), int(h_im * 0.5319444444444444), int(w_im * 0.2828125), int(h_im * 0.31805555555555554)\n",
    "print(x, y, w, h)\n",
    "cv2.rectangle(im,(x-w//2,y-h//2),(x+w//2,y+h//2),(0,255,0),2)"
   ]
  },
  {
   "cell_type": "code",
   "execution_count": 35,
   "id": "f846c51c-b07b-4143-b802-1cc612e7f1b3",
   "metadata": {},
   "outputs": [
    {
     "data": {
      "text/plain": [
       "True"
      ]
     },
     "execution_count": 35,
     "metadata": {},
     "output_type": "execute_result"
    }
   ],
   "source": [
    "cv2.imwrite(\"D:\\\\image4.jpg\", im)"
   ]
  },
  {
   "cell_type": "code",
   "execution_count": null,
   "id": "92931496-2759-46b1-9074-9169177a695c",
   "metadata": {},
   "outputs": [],
   "source": []
  },
  {
   "cell_type": "code",
   "execution_count": null,
   "id": "b9b8b3be-128f-4756-b416-8a4c305885a5",
   "metadata": {},
   "outputs": [],
   "source": []
  }
 ],
 "metadata": {
  "kernelspec": {
   "display_name": "Python 3 (ipykernel)",
   "language": "python",
   "name": "python3"
  },
  "language_info": {
   "codemirror_mode": {
    "name": "ipython",
    "version": 3
   },
   "file_extension": ".py",
   "mimetype": "text/x-python",
   "name": "python",
   "nbconvert_exporter": "python",
   "pygments_lexer": "ipython3",
   "version": "3.12.4"
  }
 },
 "nbformat": 4,
 "nbformat_minor": 5
}
